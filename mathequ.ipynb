{
 "cells": [
  {
   "cell_type": "code",
   "execution_count": 1,
   "id": "e23e6af0",
   "metadata": {},
   "outputs": [
    {
     "name": "stdout",
     "output_type": "stream",
     "text": [
      "You wrote: \n",
      "Parameters and their physical units (the units belong to each parameter):\n",
      "This equation is a law (Newton's Second Law).\n"
     ]
    }
   ],
   "source": [
    "\n",
    "equation = input(\"Please write this equation: \")\n",
    "print(\"You wrote:\", equation)\n",
    "print(\"Parameters and their physical units (the units belong to each parameter):\")\n",
    "if \"F\" in equation:\n",
    "    print(\"  F: newton (N)\")\n",
    "if \"m\" in equation:\n",
    "    print(\"  m: kilogram (kg)\")\n",
    "if \"a\" in equation:\n",
    "    print(\"  a: meter per second squared (m/s^2)\")\n",
    "print(\"This equation is a law (Newton's Second Law).\")\n"
   ]
  },
  {
   "cell_type": "code",
   "execution_count": null,
   "id": "9b2f80d2",
   "metadata": {},
   "outputs": [],
   "source": []
  },
  {
   "cell_type": "code",
   "execution_count": 2,
   "id": "0385e7fc",
   "metadata": {},
   "outputs": [],
   "source": [
    "import pint\n",
    "\n",
    "ureg = pint.UnitRegistry()\n"
   ]
  },
  {
   "cell_type": "code",
   "execution_count": 3,
   "id": "ae846fd0",
   "metadata": {},
   "outputs": [
    {
     "name": "stdout",
     "output_type": "stream",
     "text": [
      "Some units available in the library:\n",
      "+---------------+---------------+\n",
      "|      Unit     |   Definition  |\n",
      "+---------------+---------------+\n",
      "|     meter     |    [length]   |\n",
      "|       m       |    [length]   |\n",
      "|     metre     |    [length]   |\n",
      "|     second    |     [time]    |\n",
      "|       s       |     [time]    |\n",
      "|      sec      |     [time]    |\n",
      "|     ampere    |   [current]   |\n",
      "|       A       |   [current]   |\n",
      "|      amp      |   [current]   |\n",
      "|    candela    |  [luminosity] |\n",
      "|       cd      |  [luminosity] |\n",
      "|     candle    |  [luminosity] |\n",
      "|      gram     |     [mass]    |\n",
      "|       g       |     [mass]    |\n",
      "|      mole     |  [substance]  |\n",
      "|      mol      |  [substance]  |\n",
      "|     kelvin    | [temperature] |\n",
      "|       K       | [temperature] |\n",
      "|      degK     | [temperature] |\n",
      "|       °K      | [temperature] |\n",
      "| degree_Kelvin | [temperature] |\n",
      "|    degreeK    | [temperature] |\n",
      "|     radian    | dimensionless |\n",
      "|      rad      | dimensionless |\n",
      "|      bit      | dimensionless |\n",
      "|     count     | dimensionless |\n",
      "|       pi      | dimensionless |\n",
      "|       π       | dimensionless |\n",
      "|     tansec    | dimensionless |\n",
      "|      ln10     | dimensionless |\n",
      "+---------------+---------------+\n",
      "... (960 units total)\n"
     ]
    }
   ],
   "source": [
    "# Display a table of units in the pint UnitRegistry\n",
    "\n",
    "from prettytable import PrettyTable\n",
    "\n",
    "# Get all unit names and their definitions\n",
    "unit_names = list(ureg._units.keys())\n",
    "\n",
    "# Prepare a table with columns: Unit, Definition\n",
    "table = PrettyTable()\n",
    "table.field_names = [\"Unit\", \"Definition\"]\n",
    "\n",
    "# Limit to first 30 units for display (to avoid overwhelming output)\n",
    "for unit in unit_names[:30]:\n",
    "    definition = str(ureg.get_dimensionality(unit))\n",
    "    table.add_row([unit, definition])\n",
    "\n",
    "print(\"Some units available in the library:\")\n",
    "print(table)\n",
    "print(f\"... ({len(unit_names)} units total)\")\n"
   ]
  },
  {
   "cell_type": "code",
   "execution_count": null,
   "id": "0b35370f",
   "metadata": {},
   "outputs": [],
   "source": []
  }
 ],
 "metadata": {
  "kernelspec": {
   "display_name": "Python 3",
   "language": "python",
   "name": "python3"
  },
  "language_info": {
   "codemirror_mode": {
    "name": "ipython",
    "version": 3
   },
   "file_extension": ".py",
   "mimetype": "text/x-python",
   "name": "python",
   "nbconvert_exporter": "python",
   "pygments_lexer": "ipython3",
   "version": "3.12.6"
  }
 },
 "nbformat": 4,
 "nbformat_minor": 5
}
